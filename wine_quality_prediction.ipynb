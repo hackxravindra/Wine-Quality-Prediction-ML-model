{
 "cells": [
  {
   "cell_type": "markdown",
   "id": "440c7291",
   "metadata": {},
   "source": [
    "## wine quality prediction\n"
   ]
  },
  {
   "cell_type": "code",
   "execution_count": 1,
   "id": "4c9e5fc7",
   "metadata": {},
   "outputs": [],
   "source": [
    "import pandas as pd\n",
    "import numpy as np\n"
   ]
  },
  {
   "cell_type": "code",
   "execution_count": 2,
   "id": "eb100848",
   "metadata": {},
   "outputs": [],
   "source": [
    "wine = pd.read_csv(\"wine_data.csv\")"
   ]
  },
  {
   "cell_type": "code",
   "execution_count": 3,
   "id": "581da737",
   "metadata": {},
   "outputs": [
    {
     "data": {
      "text/html": [
       "<div>\n",
       "<style scoped>\n",
       "    .dataframe tbody tr th:only-of-type {\n",
       "        vertical-align: middle;\n",
       "    }\n",
       "\n",
       "    .dataframe tbody tr th {\n",
       "        vertical-align: top;\n",
       "    }\n",
       "\n",
       "    .dataframe thead th {\n",
       "        text-align: right;\n",
       "    }\n",
       "</style>\n",
       "<table border=\"1\" class=\"dataframe\">\n",
       "  <thead>\n",
       "    <tr style=\"text-align: right;\">\n",
       "      <th></th>\n",
       "      <th>fixed_acidity</th>\n",
       "      <th>volatile_acidity</th>\n",
       "      <th>citric_acid</th>\n",
       "      <th>residual_sugar</th>\n",
       "      <th>chlorides</th>\n",
       "      <th>free_sulphur_dioxide</th>\n",
       "      <th>total_sulphur_dioxide</th>\n",
       "      <th>density</th>\n",
       "      <th>pH</th>\n",
       "      <th>sulphates</th>\n",
       "      <th>alcohol</th>\n",
       "      <th>quality</th>\n",
       "    </tr>\n",
       "  </thead>\n",
       "  <tbody>\n",
       "    <tr>\n",
       "      <th>0</th>\n",
       "      <td>7.0</td>\n",
       "      <td>0.27</td>\n",
       "      <td>0.36</td>\n",
       "      <td>20.7</td>\n",
       "      <td>0.045</td>\n",
       "      <td>45.0</td>\n",
       "      <td>170.0</td>\n",
       "      <td>1.0010</td>\n",
       "      <td>3.00</td>\n",
       "      <td>0.45</td>\n",
       "      <td>8.8</td>\n",
       "      <td>6</td>\n",
       "    </tr>\n",
       "    <tr>\n",
       "      <th>1</th>\n",
       "      <td>6.3</td>\n",
       "      <td>0.30</td>\n",
       "      <td>0.34</td>\n",
       "      <td>1.6</td>\n",
       "      <td>0.049</td>\n",
       "      <td>14.0</td>\n",
       "      <td>132.0</td>\n",
       "      <td>0.9940</td>\n",
       "      <td>3.30</td>\n",
       "      <td>0.49</td>\n",
       "      <td>9.5</td>\n",
       "      <td>6</td>\n",
       "    </tr>\n",
       "    <tr>\n",
       "      <th>2</th>\n",
       "      <td>8.1</td>\n",
       "      <td>0.28</td>\n",
       "      <td>0.40</td>\n",
       "      <td>6.9</td>\n",
       "      <td>0.050</td>\n",
       "      <td>30.0</td>\n",
       "      <td>97.0</td>\n",
       "      <td>0.9951</td>\n",
       "      <td>3.26</td>\n",
       "      <td>0.44</td>\n",
       "      <td>10.1</td>\n",
       "      <td>6</td>\n",
       "    </tr>\n",
       "    <tr>\n",
       "      <th>3</th>\n",
       "      <td>7.2</td>\n",
       "      <td>0.23</td>\n",
       "      <td>0.32</td>\n",
       "      <td>8.5</td>\n",
       "      <td>0.058</td>\n",
       "      <td>47.0</td>\n",
       "      <td>186.0</td>\n",
       "      <td>0.9956</td>\n",
       "      <td>3.19</td>\n",
       "      <td>0.40</td>\n",
       "      <td>9.9</td>\n",
       "      <td>6</td>\n",
       "    </tr>\n",
       "    <tr>\n",
       "      <th>4</th>\n",
       "      <td>7.2</td>\n",
       "      <td>0.23</td>\n",
       "      <td>0.32</td>\n",
       "      <td>8.5</td>\n",
       "      <td>0.058</td>\n",
       "      <td>47.0</td>\n",
       "      <td>186.0</td>\n",
       "      <td>0.9956</td>\n",
       "      <td>3.19</td>\n",
       "      <td>0.40</td>\n",
       "      <td>9.9</td>\n",
       "      <td>6</td>\n",
       "    </tr>\n",
       "  </tbody>\n",
       "</table>\n",
       "</div>"
      ],
      "text/plain": [
       "   fixed_acidity  volatile_acidity  citric_acid  residual_sugar  chlorides  \\\n",
       "0            7.0              0.27         0.36            20.7      0.045   \n",
       "1            6.3              0.30         0.34             1.6      0.049   \n",
       "2            8.1              0.28         0.40             6.9      0.050   \n",
       "3            7.2              0.23         0.32             8.5      0.058   \n",
       "4            7.2              0.23         0.32             8.5      0.058   \n",
       "\n",
       "   free_sulphur_dioxide  total_sulphur_dioxide  density    pH  sulphates  \\\n",
       "0                  45.0                  170.0   1.0010  3.00       0.45   \n",
       "1                  14.0                  132.0   0.9940  3.30       0.49   \n",
       "2                  30.0                   97.0   0.9951  3.26       0.44   \n",
       "3                  47.0                  186.0   0.9956  3.19       0.40   \n",
       "4                  47.0                  186.0   0.9956  3.19       0.40   \n",
       "\n",
       "   alcohol  quality  \n",
       "0      8.8        6  \n",
       "1      9.5        6  \n",
       "2     10.1        6  \n",
       "3      9.9        6  \n",
       "4      9.9        6  "
      ]
     },
     "execution_count": 3,
     "metadata": {},
     "output_type": "execute_result"
    }
   ],
   "source": [
    "wine.head()"
   ]
  },
  {
   "cell_type": "code",
   "execution_count": 4,
   "id": "61c5356e",
   "metadata": {},
   "outputs": [
    {
     "data": {
      "text/plain": [
       "fixed_acidity            0\n",
       "volatile_acidity         0\n",
       "citric_acid              0\n",
       "residual_sugar           0\n",
       "chlorides                0\n",
       "free_sulphur_dioxide     0\n",
       "total_sulphur_dioxide    0\n",
       "density                  0\n",
       "pH                       0\n",
       "sulphates                0\n",
       "alcohol                  0\n",
       "quality                  0\n",
       "dtype: int64"
      ]
     },
     "execution_count": 4,
     "metadata": {},
     "output_type": "execute_result"
    }
   ],
   "source": [
    "wine.isnull().sum()"
   ]
  },
  {
   "cell_type": "code",
   "execution_count": 5,
   "id": "4fac06a7",
   "metadata": {},
   "outputs": [
    {
     "data": {
      "text/plain": [
       "Index(['fixed_acidity', 'volatile_acidity', 'citric_acid', 'residual_sugar',\n",
       "       'chlorides', 'free_sulphur_dioxide', 'total_sulphur_dioxide', 'density',\n",
       "       'pH', 'sulphates', 'alcohol', 'quality'],\n",
       "      dtype='object')"
      ]
     },
     "execution_count": 5,
     "metadata": {},
     "output_type": "execute_result"
    }
   ],
   "source": [
    "wine.columns"
   ]
  },
  {
   "cell_type": "code",
   "execution_count": 6,
   "id": "9346e739",
   "metadata": {},
   "outputs": [
    {
     "data": {
      "text/plain": [
       "(4898, 12)"
      ]
     },
     "execution_count": 6,
     "metadata": {},
     "output_type": "execute_result"
    }
   ],
   "source": [
    "wine.shape"
   ]
  },
  {
   "cell_type": "code",
   "execution_count": 7,
   "id": "be99eef2",
   "metadata": {},
   "outputs": [
    {
     "data": {
      "text/html": [
       "<div>\n",
       "<style scoped>\n",
       "    .dataframe tbody tr th:only-of-type {\n",
       "        vertical-align: middle;\n",
       "    }\n",
       "\n",
       "    .dataframe tbody tr th {\n",
       "        vertical-align: top;\n",
       "    }\n",
       "\n",
       "    .dataframe thead th {\n",
       "        text-align: right;\n",
       "    }\n",
       "</style>\n",
       "<table border=\"1\" class=\"dataframe\">\n",
       "  <thead>\n",
       "    <tr style=\"text-align: right;\">\n",
       "      <th></th>\n",
       "      <th>fixed_acidity</th>\n",
       "      <th>volatile_acidity</th>\n",
       "      <th>citric_acid</th>\n",
       "      <th>residual_sugar</th>\n",
       "      <th>chlorides</th>\n",
       "      <th>free_sulphur_dioxide</th>\n",
       "      <th>total_sulphur_dioxide</th>\n",
       "      <th>density</th>\n",
       "      <th>pH</th>\n",
       "      <th>sulphates</th>\n",
       "      <th>alcohol</th>\n",
       "      <th>quality</th>\n",
       "    </tr>\n",
       "  </thead>\n",
       "  <tbody>\n",
       "    <tr>\n",
       "      <th>count</th>\n",
       "      <td>4898.000000</td>\n",
       "      <td>4898.000000</td>\n",
       "      <td>4898.000000</td>\n",
       "      <td>4898.000000</td>\n",
       "      <td>4898.000000</td>\n",
       "      <td>4898.000000</td>\n",
       "      <td>4898.000000</td>\n",
       "      <td>4898.000000</td>\n",
       "      <td>4898.000000</td>\n",
       "      <td>4898.000000</td>\n",
       "      <td>4898.000000</td>\n",
       "      <td>4898.000000</td>\n",
       "    </tr>\n",
       "    <tr>\n",
       "      <th>mean</th>\n",
       "      <td>6.854788</td>\n",
       "      <td>0.278241</td>\n",
       "      <td>0.334192</td>\n",
       "      <td>6.391415</td>\n",
       "      <td>0.045772</td>\n",
       "      <td>35.308085</td>\n",
       "      <td>138.360657</td>\n",
       "      <td>0.994027</td>\n",
       "      <td>3.188267</td>\n",
       "      <td>0.489847</td>\n",
       "      <td>10.514267</td>\n",
       "      <td>5.877909</td>\n",
       "    </tr>\n",
       "    <tr>\n",
       "      <th>std</th>\n",
       "      <td>0.843868</td>\n",
       "      <td>0.100795</td>\n",
       "      <td>0.121020</td>\n",
       "      <td>5.072058</td>\n",
       "      <td>0.021848</td>\n",
       "      <td>17.007137</td>\n",
       "      <td>42.498065</td>\n",
       "      <td>0.002991</td>\n",
       "      <td>0.151001</td>\n",
       "      <td>0.114126</td>\n",
       "      <td>1.230621</td>\n",
       "      <td>0.885639</td>\n",
       "    </tr>\n",
       "    <tr>\n",
       "      <th>min</th>\n",
       "      <td>3.800000</td>\n",
       "      <td>0.080000</td>\n",
       "      <td>0.000000</td>\n",
       "      <td>0.600000</td>\n",
       "      <td>0.009000</td>\n",
       "      <td>2.000000</td>\n",
       "      <td>9.000000</td>\n",
       "      <td>0.987110</td>\n",
       "      <td>2.720000</td>\n",
       "      <td>0.220000</td>\n",
       "      <td>8.000000</td>\n",
       "      <td>3.000000</td>\n",
       "    </tr>\n",
       "    <tr>\n",
       "      <th>25%</th>\n",
       "      <td>6.300000</td>\n",
       "      <td>0.210000</td>\n",
       "      <td>0.270000</td>\n",
       "      <td>1.700000</td>\n",
       "      <td>0.036000</td>\n",
       "      <td>23.000000</td>\n",
       "      <td>108.000000</td>\n",
       "      <td>0.991723</td>\n",
       "      <td>3.090000</td>\n",
       "      <td>0.410000</td>\n",
       "      <td>9.500000</td>\n",
       "      <td>5.000000</td>\n",
       "    </tr>\n",
       "    <tr>\n",
       "      <th>50%</th>\n",
       "      <td>6.800000</td>\n",
       "      <td>0.260000</td>\n",
       "      <td>0.320000</td>\n",
       "      <td>5.200000</td>\n",
       "      <td>0.043000</td>\n",
       "      <td>34.000000</td>\n",
       "      <td>134.000000</td>\n",
       "      <td>0.993740</td>\n",
       "      <td>3.180000</td>\n",
       "      <td>0.470000</td>\n",
       "      <td>10.400000</td>\n",
       "      <td>6.000000</td>\n",
       "    </tr>\n",
       "    <tr>\n",
       "      <th>75%</th>\n",
       "      <td>7.300000</td>\n",
       "      <td>0.320000</td>\n",
       "      <td>0.390000</td>\n",
       "      <td>9.900000</td>\n",
       "      <td>0.050000</td>\n",
       "      <td>46.000000</td>\n",
       "      <td>167.000000</td>\n",
       "      <td>0.996100</td>\n",
       "      <td>3.280000</td>\n",
       "      <td>0.550000</td>\n",
       "      <td>11.400000</td>\n",
       "      <td>6.000000</td>\n",
       "    </tr>\n",
       "    <tr>\n",
       "      <th>max</th>\n",
       "      <td>14.200000</td>\n",
       "      <td>1.100000</td>\n",
       "      <td>1.660000</td>\n",
       "      <td>65.800000</td>\n",
       "      <td>0.346000</td>\n",
       "      <td>289.000000</td>\n",
       "      <td>440.000000</td>\n",
       "      <td>1.038980</td>\n",
       "      <td>3.820000</td>\n",
       "      <td>1.080000</td>\n",
       "      <td>14.200000</td>\n",
       "      <td>9.000000</td>\n",
       "    </tr>\n",
       "  </tbody>\n",
       "</table>\n",
       "</div>"
      ],
      "text/plain": [
       "       fixed_acidity  volatile_acidity  citric_acid  residual_sugar  \\\n",
       "count    4898.000000       4898.000000  4898.000000     4898.000000   \n",
       "mean        6.854788          0.278241     0.334192        6.391415   \n",
       "std         0.843868          0.100795     0.121020        5.072058   \n",
       "min         3.800000          0.080000     0.000000        0.600000   \n",
       "25%         6.300000          0.210000     0.270000        1.700000   \n",
       "50%         6.800000          0.260000     0.320000        5.200000   \n",
       "75%         7.300000          0.320000     0.390000        9.900000   \n",
       "max        14.200000          1.100000     1.660000       65.800000   \n",
       "\n",
       "         chlorides  free_sulphur_dioxide  total_sulphur_dioxide      density  \\\n",
       "count  4898.000000           4898.000000            4898.000000  4898.000000   \n",
       "mean      0.045772             35.308085             138.360657     0.994027   \n",
       "std       0.021848             17.007137              42.498065     0.002991   \n",
       "min       0.009000              2.000000               9.000000     0.987110   \n",
       "25%       0.036000             23.000000             108.000000     0.991723   \n",
       "50%       0.043000             34.000000             134.000000     0.993740   \n",
       "75%       0.050000             46.000000             167.000000     0.996100   \n",
       "max       0.346000            289.000000             440.000000     1.038980   \n",
       "\n",
       "                pH    sulphates      alcohol      quality  \n",
       "count  4898.000000  4898.000000  4898.000000  4898.000000  \n",
       "mean      3.188267     0.489847    10.514267     5.877909  \n",
       "std       0.151001     0.114126     1.230621     0.885639  \n",
       "min       2.720000     0.220000     8.000000     3.000000  \n",
       "25%       3.090000     0.410000     9.500000     5.000000  \n",
       "50%       3.180000     0.470000    10.400000     6.000000  \n",
       "75%       3.280000     0.550000    11.400000     6.000000  \n",
       "max       3.820000     1.080000    14.200000     9.000000  "
      ]
     },
     "execution_count": 7,
     "metadata": {},
     "output_type": "execute_result"
    }
   ],
   "source": [
    "wine.describe()"
   ]
  },
  {
   "cell_type": "code",
   "execution_count": 8,
   "id": "eae1fb0e",
   "metadata": {},
   "outputs": [
    {
     "name": "stdout",
     "output_type": "stream",
     "text": [
      "Rows in train set: 3918 \n",
      " Rows in test set:980 \n"
     ]
    }
   ],
   "source": [
    "from sklearn.model_selection import train_test_split\n",
    "train_set, test_set = train_test_split(wine, test_size= 0.2, random_state= 42)\n",
    "print(f\"Rows in train set: {len(train_set)} \\n Rows in test set:{len(test_set)} \")"
   ]
  },
  {
   "cell_type": "code",
   "execution_count": 9,
   "id": "4180e111",
   "metadata": {},
   "outputs": [],
   "source": [
    "wine_train_sample = train_set"
   ]
  },
  {
   "cell_type": "code",
   "execution_count": 10,
   "id": "695f4b52",
   "metadata": {},
   "outputs": [
    {
     "data": {
      "text/plain": [
       "(3918, 12)"
      ]
     },
     "execution_count": 10,
     "metadata": {},
     "output_type": "execute_result"
    }
   ],
   "source": [
    "train_set.shape"
   ]
  },
  {
   "cell_type": "markdown",
   "id": "3866697d",
   "metadata": {},
   "source": [
    "# looking for correlation"
   ]
  },
  {
   "cell_type": "code",
   "execution_count": 11,
   "id": "3d45b85b",
   "metadata": {},
   "outputs": [
    {
     "data": {
      "text/plain": [
       "quality                  1.000000\n",
       "alcohol                  0.435575\n",
       "pH                       0.099427\n",
       "sulphates                0.053678\n",
       "free_sulphur_dioxide     0.008158\n",
       "citric_acid             -0.009209\n",
       "residual_sugar          -0.097577\n",
       "fixed_acidity           -0.113663\n",
       "total_sulphur_dioxide   -0.174737\n",
       "volatile_acidity        -0.194723\n",
       "chlorides               -0.209934\n",
       "density                 -0.307123\n",
       "Name: quality, dtype: float64"
      ]
     },
     "execution_count": 11,
     "metadata": {},
     "output_type": "execute_result"
    }
   ],
   "source": [
    "corr_matrix = wine.corr()\n",
    "corr_matrix['quality'].sort_values(ascending=False)"
   ]
  },
  {
   "cell_type": "code",
   "execution_count": 12,
   "id": "3546c62d",
   "metadata": {},
   "outputs": [
    {
     "data": {
      "text/plain": [
       "array([[<AxesSubplot:xlabel='quality', ylabel='quality'>,\n",
       "        <AxesSubplot:xlabel='alcohol', ylabel='quality'>,\n",
       "        <AxesSubplot:xlabel='chlorides', ylabel='quality'>,\n",
       "        <AxesSubplot:xlabel='density', ylabel='quality'>],\n",
       "       [<AxesSubplot:xlabel='quality', ylabel='alcohol'>,\n",
       "        <AxesSubplot:xlabel='alcohol', ylabel='alcohol'>,\n",
       "        <AxesSubplot:xlabel='chlorides', ylabel='alcohol'>,\n",
       "        <AxesSubplot:xlabel='density', ylabel='alcohol'>],\n",
       "       [<AxesSubplot:xlabel='quality', ylabel='chlorides'>,\n",
       "        <AxesSubplot:xlabel='alcohol', ylabel='chlorides'>,\n",
       "        <AxesSubplot:xlabel='chlorides', ylabel='chlorides'>,\n",
       "        <AxesSubplot:xlabel='density', ylabel='chlorides'>],\n",
       "       [<AxesSubplot:xlabel='quality', ylabel='density'>,\n",
       "        <AxesSubplot:xlabel='alcohol', ylabel='density'>,\n",
       "        <AxesSubplot:xlabel='chlorides', ylabel='density'>,\n",
       "        <AxesSubplot:xlabel='density', ylabel='density'>]], dtype=object)"
      ]
     },
     "execution_count": 12,
     "metadata": {},
     "output_type": "execute_result"
    },
    {
     "data": {
      "image/png": "[encoded data removed]",
      "text/plain": [
       "<Figure size 1500x1000 with 16 Axes>"
      ]
     },
     "metadata": {},
     "output_type": "display_data"
    }
   ],
   "source": [
    "from pandas.plotting import scatter_matrix\n",
    "attributes = [\"quality\",\"alcohol\", \"chlorides\",\"density\"]\n",
    "scatter_matrix(wine[attributes], figsize = (15,10))"
   ]
  },
  {
   "cell_type": "code",
   "execution_count": 13,
   "id": "59b78764",
   "metadata": {},
   "outputs": [
    {
     "data": {
      "text/plain": [
       "<AxesSubplot:xlabel='quality', ylabel='alcohol'>"
      ]
     },
     "execution_count": 13,
     "metadata": {},
     "output_type": "execute_result"
    },
    {
     "data": {
      "image/png": "[encoded data removed]",
      "text/plain": [
       "<Figure size 640x480 with 1 Axes>"
      ]
     },
     "metadata": {},
     "output_type": "display_data"
    }
   ],
   "source": [
    "wine.plot(kind= \"scatter\", x= \"quality\", y= \"alcohol\")"
   ]
  },
  {
   "cell_type": "code",
   "execution_count": 14,
   "id": "299dfe33",
   "metadata": {},
   "outputs": [],
   "source": [
    "wine['ald']= wine['alcohol']/ wine[\"density\"]"
   ]
  },
  {
   "cell_type": "code",
   "execution_count": 15,
   "id": "27c0c8b1",
   "metadata": {},
   "outputs": [
    {
     "data": {
      "text/html": [
       "<div>\n",
       "<style scoped>\n",
       "    .dataframe tbody tr th:only-of-type {\n",
       "        vertical-align: middle;\n",
       "    }\n",
       "\n",
       "    .dataframe tbody tr th {\n",
       "        vertical-align: top;\n",
       "    }\n",
       "\n",
       "    .dataframe thead th {\n",
       "        text-align: right;\n",
       "    }\n",
       "</style>\n",
       "<table border=\"1\" class=\"dataframe\">\n",
       "  <thead>\n",
       "    <tr style=\"text-align: right;\">\n",
       "      <th></th>\n",
       "      <th>fixed_acidity</th>\n",
       "      <th>volatile_acidity</th>\n",
       "      <th>citric_acid</th>\n",
       "      <th>residual_sugar</th>\n",
       "      <th>chlorides</th>\n",
       "      <th>free_sulphur_dioxide</th>\n",
       "      <th>total_sulphur_dioxide</th>\n",
       "      <th>density</th>\n",
       "      <th>pH</th>\n",
       "      <th>sulphates</th>\n",
       "      <th>alcohol</th>\n",
       "      <th>quality</th>\n",
       "      <th>ald</th>\n",
       "    </tr>\n",
       "  </thead>\n",
       "  <tbody>\n",
       "    <tr>\n",
       "      <th>0</th>\n",
       "      <td>7.0</td>\n",
       "      <td>0.27</td>\n",
       "      <td>0.36</td>\n",
       "      <td>20.7</td>\n",
       "      <td>0.045</td>\n",
       "      <td>45.0</td>\n",
       "      <td>170.0</td>\n",
       "      <td>1.0010</td>\n",
       "      <td>3.00</td>\n",
       "      <td>0.45</td>\n",
       "      <td>8.8</td>\n",
       "      <td>6</td>\n",
       "      <td>8.791209</td>\n",
       "    </tr>\n",
       "    <tr>\n",
       "      <th>1</th>\n",
       "      <td>6.3</td>\n",
       "      <td>0.30</td>\n",
       "      <td>0.34</td>\n",
       "      <td>1.6</td>\n",
       "      <td>0.049</td>\n",
       "      <td>14.0</td>\n",
       "      <td>132.0</td>\n",
       "      <td>0.9940</td>\n",
       "      <td>3.30</td>\n",
       "      <td>0.49</td>\n",
       "      <td>9.5</td>\n",
       "      <td>6</td>\n",
       "      <td>9.557344</td>\n",
       "    </tr>\n",
       "    <tr>\n",
       "      <th>2</th>\n",
       "      <td>8.1</td>\n",
       "      <td>0.28</td>\n",
       "      <td>0.40</td>\n",
       "      <td>6.9</td>\n",
       "      <td>0.050</td>\n",
       "      <td>30.0</td>\n",
       "      <td>97.0</td>\n",
       "      <td>0.9951</td>\n",
       "      <td>3.26</td>\n",
       "      <td>0.44</td>\n",
       "      <td>10.1</td>\n",
       "      <td>6</td>\n",
       "      <td>10.149734</td>\n",
       "    </tr>\n",
       "    <tr>\n",
       "      <th>3</th>\n",
       "      <td>7.2</td>\n",
       "      <td>0.23</td>\n",
       "      <td>0.32</td>\n",
       "      <td>8.5</td>\n",
       "      <td>0.058</td>\n",
       "      <td>47.0</td>\n",
       "      <td>186.0</td>\n",
       "      <td>0.9956</td>\n",
       "      <td>3.19</td>\n",
       "      <td>0.40</td>\n",
       "      <td>9.9</td>\n",
       "      <td>6</td>\n",
       "      <td>9.943753</td>\n",
       "    </tr>\n",
       "    <tr>\n",
       "      <th>4</th>\n",
       "      <td>7.2</td>\n",
       "      <td>0.23</td>\n",
       "      <td>0.32</td>\n",
       "      <td>8.5</td>\n",
       "      <td>0.058</td>\n",
       "      <td>47.0</td>\n",
       "      <td>186.0</td>\n",
       "      <td>0.9956</td>\n",
       "      <td>3.19</td>\n",
       "      <td>0.40</td>\n",
       "      <td>9.9</td>\n",
       "      <td>6</td>\n",
       "      <td>9.943753</td>\n",
       "    </tr>\n",
       "  </tbody>\n",
       "</table>\n",
       "</div>"
      ],
      "text/plain": [
       "   fixed_acidity  volatile_acidity  citric_acid  residual_sugar  chlorides  \\\n",
       "0            7.0              0.27         0.36            20.7      0.045   \n",
       "1            6.3              0.30         0.34             1.6      0.049   \n",
       "2            8.1              0.28         0.40             6.9      0.050   \n",
       "3            7.2              0.23         0.32             8.5      0.058   \n",
       "4            7.2              0.23         0.32             8.5      0.058   \n",
       "\n",
       "   free_sulphur_dioxide  total_sulphur_dioxide  density    pH  sulphates  \\\n",
       "0                  45.0                  170.0   1.0010  3.00       0.45   \n",
       "1                  14.0                  132.0   0.9940  3.30       0.49   \n",
       "2                  30.0                   97.0   0.9951  3.26       0.44   \n",
       "3                  47.0                  186.0   0.9956  3.19       0.40   \n",
       "4                  47.0                  186.0   0.9956  3.19       0.40   \n",
       "\n",
       "   alcohol  quality        ald  \n",
       "0      8.8        6   8.791209  \n",
       "1      9.5        6   9.557344  \n",
       "2     10.1        6  10.149734  \n",
       "3      9.9        6   9.943753  \n",
       "4      9.9        6   9.943753  "
      ]
     },
     "execution_count": 15,
     "metadata": {},
     "output_type": "execute_result"
    }
   ],
   "source": [
    "wine.head()"
   ]
  },
  {
   "cell_type": "code",
   "execution_count": 16,
   "id": "5aa64f0f",
   "metadata": {},
   "outputs": [
    {
     "data": {
      "text/plain": [
       "quality                  1.000000\n",
       "alcohol                  0.435575\n",
       "ald                      0.434966\n",
       "pH                       0.099427\n",
       "sulphates                0.053678\n",
       "free_sulphur_dioxide     0.008158\n",
       "citric_acid             -0.009209\n",
       "residual_sugar          -0.097577\n",
       "fixed_acidity           -0.113663\n",
       "total_sulphur_dioxide   -0.174737\n",
       "volatile_acidity        -0.194723\n",
       "chlorides               -0.209934\n",
       "density                 -0.307123\n",
       "Name: quality, dtype: float64"
      ]
     },
     "execution_count": 16,
     "metadata": {},
     "output_type": "execute_result"
    }
   ],
   "source": [
    "corr_matrix = wine.corr()\n",
    "corr_matrix['quality'].sort_values(ascending = False)"
   ]
  },
  {
   "cell_type": "code",
   "execution_count": 17,
   "id": "ad463409",
   "metadata": {},
   "outputs": [],
   "source": [
    "wine = wine_train_sample.drop(\"quality\", axis =1)\n",
    "wine_labels = wine_train_sample[\"quality\"].copy()\n"
   ]
  },
  {
   "cell_type": "code",
   "execution_count": 18,
   "id": "c49ad86d",
   "metadata": {},
   "outputs": [
    {
     "data": {
      "text/html": [
       "<div>\n",
       "<style scoped>\n",
       "    .dataframe tbody tr th:only-of-type {\n",
       "        vertical-align: middle;\n",
       "    }\n",
       "\n",
       "    .dataframe tbody tr th {\n",
       "        vertical-align: top;\n",
       "    }\n",
       "\n",
       "    .dataframe thead th {\n",
       "        text-align: right;\n",
       "    }\n",
       "</style>\n",
       "<table border=\"1\" class=\"dataframe\">\n",
       "  <thead>\n",
       "    <tr style=\"text-align: right;\">\n",
       "      <th></th>\n",
       "      <th>fixed_acidity</th>\n",
       "      <th>volatile_acidity</th>\n",
       "      <th>citric_acid</th>\n",
       "      <th>residual_sugar</th>\n",
       "      <th>chlorides</th>\n",
       "      <th>free_sulphur_dioxide</th>\n",
       "      <th>total_sulphur_dioxide</th>\n",
       "      <th>density</th>\n",
       "      <th>pH</th>\n",
       "      <th>sulphates</th>\n",
       "      <th>alcohol</th>\n",
       "    </tr>\n",
       "  </thead>\n",
       "  <tbody>\n",
       "    <tr>\n",
       "      <th>count</th>\n",
       "      <td>3918.000000</td>\n",
       "      <td>3918.000000</td>\n",
       "      <td>3918.000000</td>\n",
       "      <td>3918.000000</td>\n",
       "      <td>3918.000000</td>\n",
       "      <td>3918.000000</td>\n",
       "      <td>3918.000000</td>\n",
       "      <td>3918.000000</td>\n",
       "      <td>3918.000000</td>\n",
       "      <td>3918.000000</td>\n",
       "      <td>3918.000000</td>\n",
       "    </tr>\n",
       "    <tr>\n",
       "      <th>mean</th>\n",
       "      <td>6.865046</td>\n",
       "      <td>0.279338</td>\n",
       "      <td>0.332731</td>\n",
       "      <td>6.450702</td>\n",
       "      <td>0.045734</td>\n",
       "      <td>35.094564</td>\n",
       "      <td>138.001149</td>\n",
       "      <td>0.994071</td>\n",
       "      <td>3.189293</td>\n",
       "      <td>0.489781</td>\n",
       "      <td>10.508840</td>\n",
       "    </tr>\n",
       "    <tr>\n",
       "      <th>std</th>\n",
       "      <td>0.844483</td>\n",
       "      <td>0.101606</td>\n",
       "      <td>0.119758</td>\n",
       "      <td>5.139311</td>\n",
       "      <td>0.021797</td>\n",
       "      <td>16.676958</td>\n",
       "      <td>42.067667</td>\n",
       "      <td>0.003022</td>\n",
       "      <td>0.150183</td>\n",
       "      <td>0.113590</td>\n",
       "      <td>1.227887</td>\n",
       "    </tr>\n",
       "    <tr>\n",
       "      <th>min</th>\n",
       "      <td>3.800000</td>\n",
       "      <td>0.080000</td>\n",
       "      <td>0.000000</td>\n",
       "      <td>0.600000</td>\n",
       "      <td>0.009000</td>\n",
       "      <td>3.000000</td>\n",
       "      <td>10.000000</td>\n",
       "      <td>0.987110</td>\n",
       "      <td>2.720000</td>\n",
       "      <td>0.220000</td>\n",
       "      <td>8.000000</td>\n",
       "    </tr>\n",
       "    <tr>\n",
       "      <th>25%</th>\n",
       "      <td>6.300000</td>\n",
       "      <td>0.210000</td>\n",
       "      <td>0.270000</td>\n",
       "      <td>1.700000</td>\n",
       "      <td>0.036000</td>\n",
       "      <td>23.000000</td>\n",
       "      <td>108.000000</td>\n",
       "      <td>0.991740</td>\n",
       "      <td>3.090000</td>\n",
       "      <td>0.410000</td>\n",
       "      <td>9.500000</td>\n",
       "    </tr>\n",
       "    <tr>\n",
       "      <th>50%</th>\n",
       "      <td>6.800000</td>\n",
       "      <td>0.260000</td>\n",
       "      <td>0.320000</td>\n",
       "      <td>5.200000</td>\n",
       "      <td>0.043000</td>\n",
       "      <td>33.000000</td>\n",
       "      <td>134.000000</td>\n",
       "      <td>0.993800</td>\n",
       "      <td>3.180000</td>\n",
       "      <td>0.470000</td>\n",
       "      <td>10.400000</td>\n",
       "    </tr>\n",
       "    <tr>\n",
       "      <th>75%</th>\n",
       "      <td>7.300000</td>\n",
       "      <td>0.330000</td>\n",
       "      <td>0.380000</td>\n",
       "      <td>10.000000</td>\n",
       "      <td>0.050000</td>\n",
       "      <td>46.000000</td>\n",
       "      <td>167.000000</td>\n",
       "      <td>0.996200</td>\n",
       "      <td>3.280000</td>\n",
       "      <td>0.550000</td>\n",
       "      <td>11.400000</td>\n",
       "    </tr>\n",
       "    <tr>\n",
       "      <th>max</th>\n",
       "      <td>11.800000</td>\n",
       "      <td>1.100000</td>\n",
       "      <td>1.660000</td>\n",
       "      <td>65.800000</td>\n",
       "      <td>0.346000</td>\n",
       "      <td>146.500000</td>\n",
       "      <td>313.000000</td>\n",
       "      <td>1.038980</td>\n",
       "      <td>3.820000</td>\n",
       "      <td>1.080000</td>\n",
       "      <td>14.200000</td>\n",
       "    </tr>\n",
       "  </tbody>\n",
       "</table>\n",
       "</div>"
      ],
      "text/plain": [
       "       fixed_acidity  volatile_acidity  citric_acid  residual_sugar  \\\n",
       "count    3918.000000       3918.000000  3918.000000     3918.000000   \n",
       "mean        6.865046          0.279338     0.332731        6.450702   \n",
       "std         0.844483          0.101606     0.119758        5.139311   \n",
       "min         3.800000          0.080000     0.000000        0.600000   \n",
       "25%         6.300000          0.210000     0.270000        1.700000   \n",
       "50%         6.800000          0.260000     0.320000        5.200000   \n",
       "75%         7.300000          0.330000     0.380000       10.000000   \n",
       "max        11.800000          1.100000     1.660000       65.800000   \n",
       "\n",
       "         chlorides  free_sulphur_dioxide  total_sulphur_dioxide      density  \\\n",
       "count  3918.000000           3918.000000            3918.000000  3918.000000   \n",
       "mean      0.045734             35.094564             138.001149     0.994071   \n",
       "std       0.021797             16.676958              42.067667     0.003022   \n",
       "min       0.009000              3.000000              10.000000     0.987110   \n",
       "25%       0.036000             23.000000             108.000000     0.991740   \n",
       "50%       0.043000             33.000000             134.000000     0.993800   \n",
       "75%       0.050000             46.000000             167.000000     0.996200   \n",
       "max       0.346000            146.500000             313.000000     1.038980   \n",
       "\n",
       "                pH    sulphates      alcohol  \n",
       "count  3918.000000  3918.000000  3918.000000  \n",
       "mean      3.189293     0.489781    10.508840  \n",
       "std       0.150183     0.113590     1.227887  \n",
       "min       2.720000     0.220000     8.000000  \n",
       "25%       3.090000     0.410000     9.500000  \n",
       "50%       3.180000     0.470000    10.400000  \n",
       "75%       3.280000     0.550000    11.400000  \n",
       "max       3.820000     1.080000    14.200000  "
      ]
     },
     "execution_count": 18,
     "metadata": {},
     "output_type": "execute_result"
    }
   ],
   "source": [
    "wine.describe()"
   ]
  },
  {
   "cell_type": "code",
   "execution_count": 19,
   "id": "518b3f02",
   "metadata": {},
   "outputs": [
    {
     "data": {
      "text/plain": [
       "SimpleImputer(strategy='median')"
      ]
     },
     "execution_count": 19,
     "metadata": {},
     "output_type": "execute_result"
    }
   ],
   "source": [
    "from sklearn.impute import SimpleImputer\n",
    "imputer = SimpleImputer(strategy = \"median\")\n",
    "imputer.fit(wine)"
   ]
  },
  {
   "cell_type": "code",
   "execution_count": 20,
   "id": "b12f2c07",
   "metadata": {},
   "outputs": [
    {
     "data": {
      "text/plain": [
       "array([6.800e+00, 2.600e-01, 3.200e-01, 5.200e+00, 4.300e-02, 3.300e+01,\n",
       "       1.340e+02, 9.938e-01, 3.180e+00, 4.700e-01, 1.040e+01])"
      ]
     },
     "execution_count": 20,
     "metadata": {},
     "output_type": "execute_result"
    }
   ],
   "source": [
    "imputer.statistics_"
   ]
  },
  {
   "cell_type": "code",
   "execution_count": 21,
   "id": "a296d8a3",
   "metadata": {},
   "outputs": [],
   "source": [
    "x = imputer.transform(wine)"
   ]
  },
  {
   "cell_type": "code",
   "execution_count": 22,
   "id": "73cccc6a",
   "metadata": {},
   "outputs": [],
   "source": [
    "wine_tr = pd.DataFrame(x, columns= wine.columns)"
   ]
  },
  {
   "cell_type": "code",
   "execution_count": null,
   "id": "fed51b3b",
   "metadata": {},
   "outputs": [],
   "source": []
  },
  {
   "cell_type": "markdown",
   "id": "b5dbc307",
   "metadata": {},
   "source": [
    "# creating pipeline\n"
   ]
  },
  {
   "cell_type": "code",
   "execution_count": 23,
   "id": "488b5a2f",
   "metadata": {},
   "outputs": [],
   "source": [
    "from sklearn.pipeline import Pipeline"
   ]
  },
  {
   "cell_type": "code",
   "execution_count": 24,
   "id": "bc2324d1",
   "metadata": {},
   "outputs": [],
   "source": [
    "from sklearn.preprocessing import StandardScaler\n",
    "my_pipeline = Pipeline([('imputer',SimpleImputer(strategy=\"median\")),\n",
    "                       ('std_scaler', StandardScaler())])"
   ]
  },
  {
   "cell_type": "code",
   "execution_count": 25,
   "id": "855a0d43",
   "metadata": {},
   "outputs": [],
   "source": [
    "wine_num = my_pipeline.fit_transform(wine)"
   ]
  },
  {
   "cell_type": "code",
   "execution_count": 26,
   "id": "f21c6a7a",
   "metadata": {},
   "outputs": [
    {
     "data": {
      "text/plain": [
       "array([[ 0.51511931, -1.07623315,  0.22773076, ..., -0.32826101,\n",
       "        -0.70244474,  1.54037099],\n",
       "       [-0.66918809, -0.28877673,  0.89583195, ..., -0.06188569,\n",
       "         0.26607415, -0.82171197],\n",
       "       [-1.49820327,  0.40024764, -0.02280718, ...,  0.40427112,\n",
       "         0.00193263,  0.48150622],\n",
       "       ...,\n",
       "       [ 0.87041153, -0.09191263,  1.56393313, ..., -1.12738698,\n",
       "         0.35412132,  0.72585963],\n",
       "       [-0.66918809, -0.38720878, -0.35685777, ..., -0.12847952,\n",
       "        -0.96658625,  0.07425053],\n",
       "       [ 1.46256523, -0.09191263,  0.14421812, ...,  0.20448963,\n",
       "         1.23459303, -0.08865174]])"
      ]
     },
     "execution_count": 26,
     "metadata": {},
     "output_type": "execute_result"
    }
   ],
   "source": [
    "wine_num"
   ]
  },
  {
   "cell_type": "code",
   "execution_count": 27,
   "id": "907e405b",
   "metadata": {},
   "outputs": [
    {
     "data": {
      "text/plain": [
       "(3918, 11)"
      ]
     },
     "execution_count": 27,
     "metadata": {},
     "output_type": "execute_result"
    }
   ],
   "source": [
    "wine_num.shape"
   ]
  },
  {
   "cell_type": "markdown",
   "id": "403823e5",
   "metadata": {},
   "source": [
    "# Model Selection"
   ]
  },
  {
   "cell_type": "code",
   "execution_count": 28,
   "id": "c7098526",
   "metadata": {},
   "outputs": [
    {
     "data": {
      "text/plain": [
       "RandomForestRegressor()"
      ]
     },
     "execution_count": 28,
     "metadata": {},
     "output_type": "execute_result"
    }
   ],
   "source": [
    "from sklearn.linear_model import LinearRegression\n",
    "from sklearn.tree import DecisionTreeRegressor\n",
    "from sklearn.ensemble import RandomForestRegressor\n",
    "#model = LinearRegression()\n",
    "# model = LinearRegression()\n",
    "# model = DecisionTreeRegressor()\n",
    "model = RandomForestRegressor()\n",
    "model.fit(wine_num, wine_labels)"
   ]
  },
  {
   "cell_type": "code",
   "execution_count": 29,
   "id": "f8032089",
   "metadata": {},
   "outputs": [],
   "source": [
    "some_data = wine.iloc[:5]"
   ]
  },
  {
   "cell_type": "code",
   "execution_count": 30,
   "id": "1d251461",
   "metadata": {},
   "outputs": [],
   "source": [
    "some_labels = wine_labels.iloc[:5]"
   ]
  },
  {
   "cell_type": "code",
   "execution_count": 31,
   "id": "449a80ee",
   "metadata": {},
   "outputs": [],
   "source": [
    "prepared_data = my_pipeline.transform(some_data)"
   ]
  },
  {
   "cell_type": "code",
   "execution_count": 32,
   "id": "61e0c636",
   "metadata": {},
   "outputs": [
    {
     "data": {
      "text/plain": [
       "array([6.19, 5.19, 6.03, 6.86, 5.23])"
      ]
     },
     "execution_count": 32,
     "metadata": {},
     "output_type": "execute_result"
    }
   ],
   "source": [
    "model.predict(prepared_data)"
   ]
  },
  {
   "cell_type": "code",
   "execution_count": 33,
   "id": "2dd16e3e",
   "metadata": {},
   "outputs": [
    {
     "data": {
      "text/plain": [
       "[6, 5, 6, 7, 5]"
      ]
     },
     "execution_count": 33,
     "metadata": {},
     "output_type": "execute_result"
    }
   ],
   "source": [
    "list(some_labels\n",
    "    )"
   ]
  },
  {
   "cell_type": "markdown",
   "id": "899edf88",
   "metadata": {},
   "source": [
    "# Evaluating the model"
   ]
  },
  {
   "cell_type": "code",
   "execution_count": 34,
   "id": "8d1a7bea",
   "metadata": {},
   "outputs": [],
   "source": [
    "from sklearn.metrics import mean_squared_error\n",
    "wine_predictions = model.predict(wine_num)\n",
    "mse = mean_squared_error(wine_labels, wine_predictions)\n",
    "rmse = np.sqrt(mse)"
   ]
  },
  {
   "cell_type": "code",
   "execution_count": 35,
   "id": "d0537702",
   "metadata": {},
   "outputs": [
    {
     "data": {
      "text/plain": [
       "0.23317202547916013"
      ]
     },
     "execution_count": 35,
     "metadata": {},
     "output_type": "execute_result"
    }
   ],
   "source": [
    "\n",
    "rmse"
   ]
  },
  {
   "cell_type": "markdown",
   "id": "c6b53e14",
   "metadata": {},
   "source": [
    "# using cross validation"
   ]
  },
  {
   "cell_type": "code",
   "execution_count": 36,
   "id": "13276118",
   "metadata": {},
   "outputs": [],
   "source": [
    "from sklearn.model_selection import cross_val_score\n",
    "scores = cross_val_score(model, wine_num, wine_labels, scoring =\"neg_mean_squared_error\", cv=10)\n",
    "rmse_scores = np.sqrt(-scores)"
   ]
  },
  {
   "cell_type": "code",
   "execution_count": 37,
   "id": "0194b852",
   "metadata": {},
   "outputs": [
    {
     "data": {
      "text/plain": [
       "array([0.60014178, 0.61197781, 0.56173996, 0.62382993, 0.62409281,\n",
       "       0.61967919, 0.60268468, 0.6985004 , 0.62250196, 0.66873855])"
      ]
     },
     "execution_count": 37,
     "metadata": {},
     "output_type": "execute_result"
    }
   ],
   "source": [
    "rmse_scores"
   ]
  },
  {
   "cell_type": "code",
   "execution_count": 38,
   "id": "f2fccf7e",
   "metadata": {},
   "outputs": [],
   "source": [
    "def print_scores(scores):\n",
    "    print(\"scores:\", scores)\n",
    "    print(\"Mean :\",scores.mean())\n",
    "    print(\"Standard Deviation:\", scores.std())"
   ]
  },
  {
   "cell_type": "code",
   "execution_count": 39,
   "id": "ab669bc5",
   "metadata": {},
   "outputs": [
    {
     "name": "stdout",
     "output_type": "stream",
     "text": [
      "scores: [0.60014178 0.61197781 0.56173996 0.62382993 0.62409281 0.61967919\n",
      " 0.60268468 0.6985004  0.62250196 0.66873855]\n",
      "Mean : 0.6233887070278366\n",
      "Standard Deviation: 0.035515439849815256\n"
     ]
    }
   ],
   "source": [
    "print_scores(rmse_scores)"
   ]
  },
  {
   "cell_type": "code",
   "execution_count": 40,
   "id": "ddfd948d",
   "metadata": {},
   "outputs": [],
   "source": [
    "# Saving the model\n"
   ]
  },
  {
   "cell_type": "code",
   "execution_count": 41,
   "id": "4bbb71ea",
   "metadata": {},
   "outputs": [
    {
     "data": {
      "text/plain": [
       "['wine.joblib']"
      ]
     },
     "execution_count": 41,
     "metadata": {},
     "output_type": "execute_result"
    }
   ],
   "source": [
    "from joblib import dump, load\n",
    "dump(model, \"wine.joblib\")"
   ]
  },
  {
   "cell_type": "code",
   "execution_count": 43,
   "id": "00515dbb",
   "metadata": {},
   "outputs": [
    {
     "name": "stdout",
     "output_type": "stream",
     "text": [
      "[6.88 7.67 6.68 5.13 6.75 6.3  5.2  5.23 5.94 5.08 6.71 5.1  6.9  5.6\n",
      " 6.95 5.21 7.18 5.61 6.83 5.67 5.25 5.93 5.16 6.03 6.31 5.31 5.04 6.03\n",
      " 6.64 5.55 5.07 5.06 5.51 5.78 5.55 6.76 6.21 5.44 5.13 5.78 5.22 6.05\n",
      " 6.14 5.6  4.85 5.91 5.55 5.24 5.17 5.02 4.95 5.99 5.46 6.26 6.33 5.66\n",
      " 5.91 6.12 5.86 6.85 6.1  6.09 5.71 6.77 5.98 6.7  6.25 5.48 6.01 5.96\n",
      " 5.32 5.88 5.14 4.56 5.97 6.14 5.9  6.19 7.15 6.94 5.72 5.61 6.   6.24\n",
      " 5.34 6.83 5.13 6.54 5.42 5.83 6.93 5.14 5.7  6.55 6.6  6.65 6.06 5.8\n",
      " 5.16 6.19 5.44 6.48 6.93 5.64 6.03 6.19 6.85 6.47 5.61 6.   6.02 6.43\n",
      " 6.17 5.43 5.3  6.85 6.61 6.38 5.27 8.   5.48 6.66 6.21 5.72 6.9  6.04\n",
      " 6.83 5.79 6.42 5.16 6.33 6.06 5.72 6.49 5.08 6.2  6.08 5.76 6.51 5.27\n",
      " 6.84 6.   6.32 5.56 6.61 5.32 5.05 5.29 5.34 5.36 6.29 6.01 5.78 5.66\n",
      " 6.85 4.79 6.46 5.96 6.15 5.43 5.62 5.4  5.59 5.81 6.83 6.53 5.03 6.01\n",
      " 5.29 6.43 5.35 6.08 6.42 5.15 7.33 6.01 5.72 6.22 6.18 5.4  6.47 5.69\n",
      " 5.96 6.01 5.29 6.59 6.19 5.67 5.97 5.42 5.75 5.68 6.74 6.26 5.38 5.51\n",
      " 6.94 6.71 5.27 5.69 6.65 4.77 6.35 6.03 5.57 5.78 6.89 6.72 5.81 6.53\n",
      " 5.89 6.59 6.29 7.11 5.   5.45 5.96 5.67 6.09 6.39 5.05 5.3  5.89 6.08\n",
      " 6.14 5.32 6.18 6.46 6.71 5.41 5.84 5.07 6.46 5.61 5.3  6.83 6.09 5.79\n",
      " 5.79 6.3  6.03 4.97 6.6  5.62 6.44 4.9  4.64 5.13 5.76 5.72 5.83 4.77\n",
      " 5.87 5.03 5.84 5.36 6.01 5.09 6.18 5.77 6.06 5.41 5.37 4.81 6.81 6.08\n",
      " 5.64 5.85 6.59 5.36 5.27 5.95 6.43 7.23 5.68 6.39 5.34 5.86 6.48 5.44\n",
      " 5.83 5.97 6.11 4.94 5.97 7.03 7.25 5.52 5.51 5.45 5.96 5.88 6.16 5.41\n",
      " 7.66 5.58 5.53 6.05 5.46 5.22 4.95 5.17 5.81 5.33 6.41 5.25 5.41 5.87\n",
      " 6.39 4.63 5.94 5.81 5.44 6.07 6.19 7.12 5.86 6.28 4.99 6.89 6.65 6.9\n",
      " 6.47 6.14 5.09 5.28 6.75 5.44 7.37 5.09 6.03 6.31 6.04 5.99 5.33 5.66\n",
      " 6.87 6.44 7.33 5.59 6.26 5.66 5.25 6.11 5.42 5.25 6.44 4.51 7.   6.05\n",
      " 6.66 6.74 6.03 5.88 6.2  5.03 5.64 6.94 6.79 5.17 5.25 5.38 5.76 5.29\n",
      " 5.48 5.46 5.15 5.53 5.47 6.33 5.75 5.79 6.13 5.85 6.38 6.   5.99 5.\n",
      " 6.98 5.39 6.03 6.57 5.64 6.06 6.   6.46 7.03 5.87 5.46 5.08 5.44 6.38\n",
      " 5.71 5.67 4.94 5.51 4.82 6.54 6.04 5.84 5.2  6.11 5.91 6.41 5.71 6.89\n",
      " 6.12 5.15 6.95 7.02 5.41 5.66 7.62 5.97 5.85 6.15 4.9  6.15 4.99 5.76\n",
      " 6.78 5.87 6.07 6.68 6.32 5.63 5.56 6.4  5.81 6.16 6.8  5.67 6.77 6.2\n",
      " 6.68 5.23 7.81 6.09 5.04 5.85 5.96 6.94 6.14 5.07 5.03 6.19 7.38 6.02\n",
      " 4.95 5.94 5.32 5.19 6.05 6.47 6.68 5.88 4.99 6.61 4.98 5.29 5.65 6.15\n",
      " 5.62 5.82 6.26 6.81 5.76 5.98 6.47 5.   5.12 6.01 6.14 5.02 4.84 5.94\n",
      " 5.09 5.35 6.07 5.98 6.82 4.8  5.93 5.53 4.9  7.01 5.98 5.1  5.18 5.68\n",
      " 5.93 5.09 6.15 5.53 5.6  6.85 6.03 5.36 5.66 4.63 6.82 5.79 5.04 6.16\n",
      " 6.05 6.33 6.3  5.46 5.98 6.39 6.47 4.81 5.22 5.5  6.45 5.91 5.4  5.17\n",
      " 6.1  4.76 5.41 5.06 5.52 5.48 6.16 5.06 6.85 6.28 5.29 5.59 7.62 6.01\n",
      " 5.13 5.61 5.91 6.03 6.71 6.83 7.   6.29 5.35 5.74 6.28 5.7  6.35 5.76\n",
      " 6.47 5.47 6.08 6.6  5.98 6.9  6.89 5.86 7.33 7.   7.24 6.98 5.36 5.86\n",
      " 7.   6.19 6.   5.37 6.25 5.6  5.02 5.82 6.18 5.33 6.19 6.11 6.47 6.44\n",
      " 6.   6.58 5.92 5.98 6.44 6.07 5.63 5.41 5.22 5.11 5.76 5.2  6.23 5.71\n",
      " 5.55 7.32 6.98 6.6  5.27 6.85 5.94 6.26 7.7  7.13 5.28 5.25 5.17 6.63\n",
      " 5.7  4.98 5.71 6.92 5.49 5.53 5.85 6.83 5.63 6.38 6.   5.97 5.72 5.77\n",
      " 5.59 6.99 5.61 5.45 6.64 6.35 5.38 5.88 5.83 5.59 6.9  4.62 5.11 6.99\n",
      " 5.23 6.05 6.59 5.56 5.21 5.51 6.05 5.15 5.68 6.9  5.79 6.35 6.4  4.93\n",
      " 5.42 5.16 6.24 5.53 6.87 5.83 6.71 6.96 6.63 6.04 7.   6.6  5.86 5.19\n",
      " 5.88 4.9  7.49 6.55 6.51 6.03 6.41 6.29 5.63 5.24 6.2  5.59 6.06 6.71\n",
      " 5.07 5.25 6.59 5.93 5.8  6.85 5.4  6.19 6.02 5.96 6.07 5.73 5.93 6.03\n",
      " 5.84 5.21 5.47 7.59 5.59 5.38 5.02 7.06 6.15 7.49 5.77 5.99 6.37 5.98\n",
      " 5.15 5.94 5.22 6.37 6.18 5.94 6.86 7.07 5.84 5.35 5.05 6.31 6.6  6.31\n",
      " 5.51 5.15 6.   6.36 5.61 6.83 5.25 4.96 5.21 6.76 6.05 5.89 6.11 6.02\n",
      " 6.05 5.09 5.06 5.78 6.74 6.17 5.23 5.6  6.3  6.01 5.23 6.25 6.58 5.1\n",
      " 7.01 6.52 6.81 6.05 6.18 5.43 6.35 6.97 5.73 5.52 6.87 6.92 5.17 4.87\n",
      " 5.66 5.82 4.45 5.91 5.65 6.55 6.02 6.48 5.97 6.61 5.7  6.51 5.74 5.81\n",
      " 5.22 6.42 5.42 6.04 5.49 7.   6.47 5.19 6.86 5.45 6.01 6.75 6.17 5.81\n",
      " 6.7  6.1  6.86 5.17 5.36 6.25 5.14 6.87 5.11 5.74 5.12 5.25 5.26 6.02\n",
      " 4.97 5.03 6.4  6.03 5.45 5.18 7.49 5.65 6.16 5.21 5.93 5.91 5.96 5.97\n",
      " 5.36 6.54 5.92 5.78 6.09 5.53 5.62 6.46 6.08 5.04 6.45 6.34 5.13 5.36\n",
      " 7.44 5.42 5.47 5.26 6.61 5.93 6.1  6.12 6.04 5.71 5.77 5.44 5.35 6.02\n",
      " 5.88 6.39 5.53 5.88 6.26 5.81 6.   5.8  5.88 6.86 5.27 6.11 6.03 4.85\n",
      " 6.47 5.86 5.74 6.08 5.05 6.32 5.7  5.42 5.57 6.32 5.82 7.54 5.52 6.01\n",
      " 5.86 5.43 5.52 6.77 7.33 5.21 5.05 4.37 6.85 6.18 5.18 6.31 5.46 6.13\n",
      " 6.47 6.85 6.02 6.44 5.94 5.55 5.12 6.13 5.17 6.05 6.41 6.05 5.91 6.27\n",
      " 5.57 5.69 5.34 5.95 5.02 5.19 6.1  5.49 4.87 5.69 5.6  6.73 6.04 6.\n",
      " 5.64 5.18 6.1  5.57 6.51 6.99 5.54 6.52 5.82 6.59 5.68 5.17 6.39 7.03\n",
      " 6.66 5.94 6.96 5.55 5.27 5.19 6.86 5.47 6.56 5.23 5.42 6.7  5.48 5.49\n",
      " 5.86 5.96 5.15 6.77 7.97 5.46 5.21 5.07 5.18 5.93 6.05 5.65 5.13 5.56\n",
      " 5.79 6.28 6.26 6.78 6.62 6.12 5.17 6.99 7.1  5.34 6.88 4.98 5.28 5.55\n",
      " 6.01 5.64 6.78 4.75 6.22 5.32 5.65 5.84 5.91 6.06 5.96 5.36 5.23 5.92] [7, 8, 8, 5, 7, 6, 5, 4, 6, 5, 7, 5, 7, 6, 5, 5, 8, 5, 7, 6, 6, 7, 5, 5, 8, 5, 5, 6, 7, 5, 5, 5, 6, 6, 5, 7, 7, 6, 5, 6, 6, 6, 7, 6, 4, 6, 6, 6, 5, 5, 5, 5, 6, 6, 6, 7, 6, 5, 5, 7, 6, 6, 6, 7, 6, 7, 6, 6, 6, 5, 5, 6, 4, 5, 5, 6, 6, 7, 7, 7, 5, 6, 6, 7, 7, 6, 5, 7, 5, 7, 7, 5, 7, 6, 8, 7, 6, 6, 5, 6, 6, 5, 7, 6, 6, 6, 7, 7, 5, 6, 6, 7, 6, 5, 5, 7, 7, 6, 5, 8, 5, 6, 6, 6, 7, 6, 7, 6, 6, 5, 5, 6, 6, 5, 5, 6, 6, 6, 6, 5, 8, 6, 6, 6, 6, 5, 5, 6, 5, 6, 6, 6, 6, 5, 7, 5, 6, 6, 6, 5, 6, 5, 6, 6, 7, 6, 5, 5, 5, 6, 7, 6, 6, 5, 6, 6, 6, 6, 6, 5, 6, 5, 7, 6, 5, 7, 7, 6, 6, 5, 6, 5, 7, 6, 4, 5, 7, 6, 6, 6, 7, 4, 6, 6, 6, 6, 7, 7, 6, 6, 6, 6, 6, 7, 5, 6, 7, 3, 6, 6, 5, 6, 5, 6, 6, 5, 7, 7, 7, 5, 6, 5, 6, 6, 4, 7, 6, 4, 6, 7, 6, 4, 7, 6, 7, 5, 4, 5, 5, 6, 6, 4, 5, 5, 7, 6, 6, 5, 6, 5, 5, 6, 5, 6, 7, 6, 6, 6, 7, 5, 5, 6, 7, 8, 6, 6, 5, 6, 7, 5, 6, 5, 6, 4, 6, 7, 7, 6, 5, 6, 7, 6, 6, 5, 8, 5, 5, 6, 5, 5, 5, 5, 6, 5, 7, 5, 5, 6, 7, 4, 6, 6, 5, 6, 7, 7, 6, 6, 5, 6, 7, 7, 6, 6, 5, 5, 6, 5, 8, 5, 6, 6, 5, 6, 5, 6, 7, 7, 8, 5, 4, 5, 5, 6, 5, 5, 7, 4, 7, 6, 6, 7, 6, 6, 6, 5, 6, 8, 7, 5, 5, 5, 6, 5, 5, 6, 5, 5, 7, 6, 6, 7, 6, 6, 6, 6, 6, 5, 7, 5, 6, 6, 6, 7, 6, 6, 7, 5, 5, 5, 6, 7, 6, 6, 4, 6, 4, 6, 6, 3, 4, 7, 6, 5, 5, 8, 7, 5, 7, 7, 5, 6, 8, 6, 6, 7, 6, 5, 5, 6, 7, 6, 6, 7, 7, 6, 5, 6, 6, 5, 7, 6, 7, 6, 7, 5, 8, 6, 5, 7, 6, 7, 6, 5, 6, 6, 6, 6, 5, 6, 5, 5, 6, 6, 6, 6, 5, 5, 5, 6, 6, 6, 5, 6, 6, 7, 5, 6, 6, 5, 5, 6, 6, 5, 4, 6, 5, 5, 6, 5, 7, 7, 6, 5, 5, 8, 6, 5, 6, 3, 5, 5, 6, 5, 5, 7, 6, 6, 6, 5, 7, 7, 5, 6, 6, 5, 6, 6, 6, 6, 8, 5, 6, 5, 7, 6, 5, 5, 6, 6, 5, 5, 6, 5, 6, 5, 7, 5, 5, 3, 8, 6, 5, 6, 6, 6, 7, 7, 8, 6, 5, 6, 6, 5, 6, 6, 7, 5, 6, 7, 6, 7, 7, 6, 6, 7, 7, 7, 5, 6, 7, 7, 6, 6, 6, 6, 5, 6, 6, 6, 6, 5, 7, 7, 6, 7, 6, 6, 7, 6, 6, 5, 6, 5, 5, 5, 6, 5, 5, 8, 7, 7, 5, 6, 6, 6, 8, 8, 5, 5, 5, 5, 5, 5, 6, 7, 5, 6, 6, 7, 3, 5, 6, 5, 6, 6, 6, 7, 5, 5, 7, 6, 5, 8, 6, 5, 7, 5, 5, 7, 5, 6, 7, 6, 6, 5, 6, 5, 5, 7, 6, 6, 7, 6, 5, 5, 6, 5, 7, 6, 6, 7, 7, 6, 7, 7, 6, 6, 6, 4, 7, 8, 8, 5, 7, 6, 6, 5, 6, 6, 5, 5, 5, 5, 8, 6, 6, 6, 5, 7, 5, 6, 6, 6, 6, 7, 4, 5, 5, 8, 8, 5, 5, 7, 6, 7, 6, 6, 6, 5, 5, 5, 5, 6, 6, 7, 7, 7, 6, 6, 5, 6, 8, 6, 5, 5, 6, 7, 5, 7, 5, 5, 5, 7, 6, 7, 6, 6, 6, 5, 5, 6, 7, 7, 5, 5, 7, 6, 5, 7, 7, 5, 6, 6, 7, 7, 6, 5, 6, 7, 6, 6, 6, 7, 5, 5, 5, 6, 4, 6, 6, 7, 7, 7, 6, 7, 5, 7, 6, 5, 5, 7, 6, 6, 6, 7, 7, 5, 7, 6, 6, 7, 6, 5, 7, 6, 6, 5, 6, 7, 5, 7, 5, 6, 5, 5, 6, 6, 5, 5, 7, 6, 5, 6, 8, 6, 6, 6, 6, 6, 6, 6, 5, 7, 6, 6, 6, 6, 4, 7, 6, 5, 6, 8, 5, 5, 8, 6, 6, 6, 6, 6, 7, 7, 7, 5, 6, 6, 5, 6, 7, 6, 5, 7, 4, 6, 6, 6, 6, 7, 5, 6, 6, 5, 6, 5, 6, 6, 5, 6, 6, 6, 6, 6, 5, 8, 5, 6, 5, 5, 5, 7, 6, 6, 5, 4, 7, 6, 5, 7, 6, 6, 8, 7, 6, 6, 7, 5, 5, 6, 5, 6, 7, 6, 6, 6, 5, 5, 5, 6, 5, 5, 6, 6, 5, 6, 7, 7, 6, 6, 6, 5, 6, 5, 6, 7, 6, 6, 7, 6, 6, 5, 6, 7, 6, 6, 7, 5, 6, 5, 7, 6, 6, 6, 5, 7, 5, 6, 5, 6, 5, 6, 8, 5, 6, 5, 5, 6, 6, 6, 5, 5, 6, 7, 6, 7, 6, 6, 5, 7, 7, 6, 6, 5, 5, 5, 6, 6, 5, 4, 6, 6, 5, 6, 6, 6, 6, 6, 5, 6]\n"
     ]
    }
   ],
   "source": [
    "x_test = test_set.drop(\"quality\", axis =1)\n",
    "y_test = test_set[\"quality\"].copy()\n",
    "x_test_prepared =  my_pipeline.transform(x_test)\n",
    "final_predictions = model.predict(x_test_prepared)\n",
    "final_mse = mean_squared_error(y_test, final_predictions)\n",
    "final_rmse = np.sqrt(final_mse)\n",
    "print(final_predictions, list(y_test))"
   ]
  },
  {
   "cell_type": "code",
   "execution_count": 47,
   "id": "231f9b45",
   "metadata": {},
   "outputs": [
    {
     "data": {
      "text/plain": [
       "array([ 0.51511931, -1.07623315,  0.22773076,  0.34041947, -0.81368849,\n",
       "        0.5340646 , -0.64193232, -0.44704073, -0.32826101, -0.70244474,\n",
       "        1.54037099])"
      ]
     },
     "execution_count": 47,
     "metadata": {},
     "output_type": "execute_result"
    }
   ],
   "source": [
    "prepared_data[0]"
   ]
  },
  {
   "cell_type": "code",
   "execution_count": 44,
   "id": "29b124d7",
   "metadata": {},
   "outputs": [],
   "source": [
    "#using the model"
   ]
  },
  {
   "cell_type": "code",
   "execution_count": 48,
   "id": "f7ebbaeb",
   "metadata": {},
   "outputs": [
    {
     "data": {
      "text/plain": [
       "array([6.19])"
      ]
     },
     "execution_count": 48,
     "metadata": {},
     "output_type": "execute_result"
    }
   ],
   "source": [
    "from joblib import dump, load\n",
    "import numpy as np\n",
    "model = load(\"wine.joblib\")\n",
    "features = np.array([[ 0.51511931, -1.07623315,  0.22773076,  0.34041947, -0.81368849,\n",
    "        0.5340646 , -0.64193232, -0.44704073, -0.32826101, -0.70244474,\n",
    "        1.54037099]])\n",
    "model.predict(features)"
   ]
  },
  {
   "cell_type": "code",
   "execution_count": null,
   "id": "feffc156",
   "metadata": {},
   "outputs": [],
   "source": []
  }
 ],
 "metadata": {
  "kernelspec": {
   "display_name": "Python 3 (ipykernel)",
   "language": "python",
   "name": "python3"
  },
  "language_info": {
   "codemirror_mode": {
    "name": "ipython",
    "version": 3
   },
   "file_extension": ".py",
   "mimetype": "text/x-python",
   "name": "python",
   "nbconvert_exporter": "python",
   "pygments_lexer": "ipython3",
   "version": "3.9.13"
  }
 },
 "nbformat": 4,
 "nbformat_minor": 5
}
